{
 "cells": [
  {
   "cell_type": "code",
   "execution_count": null,
   "metadata": {},
   "outputs": [],
   "source": [
    "!pip install ccxt"
   ]
  },
  {
   "cell_type": "code",
   "execution_count": null,
   "metadata": {},
   "outputs": [],
   "source": [
    "!pip install pandas-ta"
   ]
  },
  {
   "cell_type": "code",
   "execution_count": null,
   "metadata": {},
   "outputs": [],
   "source": [
    "!pip install yfinance"
   ]
  },
  {
   "cell_type": "code",
   "execution_count": null,
   "metadata": {},
   "outputs": [],
   "source": [
    "!pip install TA-Lib"
   ]
  },
  {
   "cell_type": "code",
   "execution_count": null,
   "metadata": {},
   "outputs": [],
   "source": [
    "import ccxt\n",
    "import pprint\n",
    "import pandas as pd"
   ]
  },
  {
   "cell_type": "code",
   "execution_count": null,
   "metadata": {},
   "outputs": [],
   "source": [
    "# tikcer 조회\n",
    "binance = ccxt.binance()\n",
    "markets = binance.fetch_tickers()\n",
    "# print(markets.keys())\n",
    "print(len(markets.keys()))"
   ]
  },
  {
   "cell_type": "code",
   "execution_count": null,
   "metadata": {},
   "outputs": [],
   "source": [
    "# 현재가 조회\n",
    "ticker = binance.fetch_ticker('ETH/USDT')\n",
    "print(ticker['open'], ticker['high'], ticker['low'], ticker['close']) # 시가, 종가, 고가, 저가"
   ]
  },
  {
   "cell_type": "code",
   "execution_count": null,
   "metadata": {},
   "outputs": [],
   "source": [
    "btc = binance.fetch_ticker(\"BTC/USDT\")\n",
    "pprint.pprint(btc)"
   ]
  },
  {
   "cell_type": "code",
   "execution_count": null,
   "metadata": {},
   "outputs": [],
   "source": [
    "# 과거 데이터 조회\n",
    "# 분봉 조회\n",
    "binance = ccxt.binance()\n",
    "btc_ohlcv = binance.fetch_ohlcv(\"BTC/USDT\")\n",
    "\n",
    "df = pd.DataFrame(btc_ohlcv, columns=['datetime', 'open', 'high', 'low', 'close', 'volume'])\n",
    "df['datetime'] = pd.to_datetime(df['datetime'], unit='ms')\n",
    "df.set_index('datetime', inplace=True)\n",
    "print(df)"
   ]
  },
  {
   "cell_type": "code",
   "execution_count": null,
   "metadata": {},
   "outputs": [],
   "source": [
    "# 일봉 조회\n",
    "binance = ccxt.binance()\n",
    "btc_ohlcv = binance.fetch_ohlcv(\"BTC/USDT\", '1d')\n",
    "\n",
    "df = pd.DataFrame(btc_ohlcv, columns=['datetime', 'open', 'high', 'low', 'close', 'volume'])\n",
    "df['datetime'] = pd.to_datetime(df['datetime'], unit='ms')\n",
    "df.set_index('datetime', inplace=True)\n",
    "print(df)"
   ]
  },
  {
   "cell_type": "code",
   "execution_count": null,
   "metadata": {},
   "outputs": [],
   "source": [
    "# 특정 개수만 조회하기\n",
    "binance = ccxt.binance()\n",
    "btc_ohlcv = binance.fetch_ohlcv(symbol=\"BTC/USDT\", timeframe='1d', limit=10)\n",
    "\n",
    "# 데이터 프레임 변환\n",
    "df = pd.DataFrame(btc_ohlcv, columns=['datetime', 'open', 'high', 'low', 'close', 'volume'])\n",
    "df['datetime'] = pd.to_datetime(df['datetime'], unit='ms')\n",
    "df.set_index('datetime', inplace=True)\n",
    "print(df)"
   ]
  },
  {
   "cell_type": "code",
   "execution_count": null,
   "metadata": {},
   "outputs": [],
   "source": [
    "# 잔고 조회\n",
    "binance = ccxt.binance({\n",
    "    'apiKey': 'YOUR API KEY',\n",
    "    'secret': 'YOUR SECRET KEY',\n",
    "})\n",
    "\n",
    "balance = binance.fetch_balance()\n",
    "\n",
    "print(\"USDT: \", balance['USDT'])\n",
    "print(\"ETH: \", balance['ETH'])"
   ]
  },
  {
   "cell_type": "code",
   "execution_count": null,
   "metadata": {},
   "outputs": [],
   "source": [
    "# 잔고 조회\n",
    "# 파일로부터 apiKey, Secret 읽기 \n",
    "with open(\"api.txt\") as f:\n",
    "    lines = f.readlines()\n",
    "    api_key = lines[0].strip() \n",
    "    secret = lines[1].strip() \n",
    "\n",
    "# binance 객체 생성\n",
    "binance = ccxt.binance(config={\n",
    "    'apiKey': api_key,\n",
    "    'secret': secret\n",
    "})\n",
    "\n",
    "# USDT의 잔고 조회\n",
    "balance = binance.fetch_balance()\n",
    "print(balance['USDT'])"
   ]
  },
  {
   "cell_type": "markdown",
   "metadata": {},
   "source": [
    "현물 거래"
   ]
  },
  {
   "cell_type": "code",
   "execution_count": null,
   "metadata": {},
   "outputs": [],
   "source": [
    "# 매수 주문\n",
    "# 파일로부터 apiKey, Secret 읽기 \n",
    "with open(\"api.txt\") as f:\n",
    "    lines = f.readlines()\n",
    "    api_key = lines[0].strip() \n",
    "    secret = lines[1].strip() \n",
    "\n",
    "# binance 객체 생성\n",
    "binance = ccxt.binance(config={\n",
    "    'apiKey': api_key,\n",
    "    'secret': secret\n",
    "})\n",
    "\n",
    "order = binance.create_limit_buy_order(\n",
    "    symbol=\"BTC/USDT\", \n",
    "    amount=0.01, \n",
    "    price=20000\n",
    ")\n",
    "\n",
    "pprint.pprint(order)"
   ]
  },
  {
   "cell_type": "code",
   "execution_count": null,
   "metadata": {},
   "outputs": [],
   "source": [
    "# 주문 취소\n",
    "# 파일로부터 apiKey, Secret 읽기 \n",
    "with open(\"api.txt\") as f:\n",
    "    lines = f.readlines()\n",
    "    api_key = lines[0].strip() \n",
    "    secret = lines[1].strip() \n",
    "\n",
    "# binance 객체 생성\n",
    "binance = ccxt.binance(config={\n",
    "    'apiKey': api_key,\n",
    "    'secret': secret\n",
    "})\n",
    "\n",
    "resp = binance.cancel_order(\n",
    "    id=5221422745,\n",
    "    symbol='BTC/USDT'\n",
    ")\n",
    "\n",
    "pprint.pprint(resp)"
   ]
  },
  {
   "cell_type": "code",
   "execution_count": null,
   "metadata": {},
   "outputs": [],
   "source": [
    "# 매도\n",
    "balance = binance.fetch_balance()\n",
    "\n",
    "# 현재 구매 수량을 불러옴\n",
    "result = 0\n",
    "for position in balance['info']['positions']:\n",
    "    if position['symbol'] == \"ETHUSDT\":\n",
    "        result = position['positionAmt']\n",
    "        break\n",
    "        \n",
    "order = binance.create_market_sell_order('ETH/USDT', result) # 시장가"
   ]
  },
  {
   "cell_type": "markdown",
   "metadata": {},
   "source": [
    "선물 거래"
   ]
  },
  {
   "cell_type": "code",
   "execution_count": null,
   "metadata": {},
   "outputs": [],
   "source": [
    "api_key = \"\"\n",
    "secret  = \"\"\n",
    "\n",
    "binance = ccxt.binance(config={\n",
    "    'apiKey': api_key, \n",
    "    'secret': secret,\n",
    "    'enableRateLimit': True,\n",
    "    'options': {\n",
    "        'defaultType': 'future'\n",
    "    }\n",
    "})"
   ]
  },
  {
   "cell_type": "code",
   "execution_count": null,
   "metadata": {},
   "outputs": [],
   "source": [
    "# 마켓 조회\n",
    "with open(\"../api.txt\") as f:\n",
    "    lines = f.readlines()\n",
    "    api_key = lines[0].strip()\n",
    "    secret  = lines[1].strip()\n",
    "\n",
    "binance = ccxt.binance(config={\n",
    "    'apiKey': api_key, \n",
    "    'secret': secret,\n",
    "    'enableRateLimit': True,\n",
    "    'options': {\n",
    "        'defaultType': 'future'\n",
    "    }\n",
    "})\n",
    "\n",
    "markets = binance.load_markets()\n",
    "for m in markets:\n",
    "    print(m)"
   ]
  },
  {
   "cell_type": "code",
   "execution_count": null,
   "metadata": {},
   "outputs": [],
   "source": [
    "# 선물 잔고 조회\n",
    "# 파일로부터 apiKey, Secret 읽기 \n",
    "with open(\"api.txt\") as f:\n",
    "    lines = f.readlines()\n",
    "    api_key = lines[0].strip() \n",
    "    secret = lines[1].strip() \n",
    "\n",
    "# binance 객체 생성\n",
    "binance = ccxt.binance(config={\n",
    "    'apiKey': api_key,\n",
    "    'secret': secret,\n",
    "    'enableRateLimit': True, \n",
    "})\n",
    "\n",
    "balance = binance.fetch_balance(params={\"type\": \"future\"})\n",
    "print(balance['USDT'])"
   ]
  },
  {
   "cell_type": "code",
   "execution_count": null,
   "metadata": {},
   "outputs": [],
   "source": [
    "# 현재가 조회\n",
    "with open(\"../api.txt\") as f:\n",
    "    lines = f.readlines()\n",
    "    api_key = lines[0].strip()\n",
    "    secret  = lines[1].strip()\n",
    "\n",
    "binance = ccxt.binance(config={\n",
    "    'apiKey': api_key, \n",
    "    'secret': secret,\n",
    "    'enableRateLimit': True,\n",
    "    'options': {\n",
    "        'defaultType': 'future'\n",
    "    }\n",
    "})\n",
    "\n",
    "btc = binance.fetch_ticker(\"BTC/USDT\")\n",
    "print(btc)"
   ]
  },
  {
   "cell_type": "code",
   "execution_count": null,
   "metadata": {},
   "outputs": [],
   "source": [
    "# 과거 데이터 조회\n",
    "with open(\"../api.txt\") as f:\n",
    "    lines = f.readlines()\n",
    "    api_key = lines[0].strip()\n",
    "    secret  = lines[1].strip()\n",
    "\n",
    "binance = ccxt.binance(config={\n",
    "    'apiKey': api_key, \n",
    "    'secret': secret,\n",
    "    'enableRateLimit': True,\n",
    "    'options': {\n",
    "        'defaultType': 'future'\n",
    "    }\n",
    "})\n",
    "\n",
    "btc = binance.fetch_ohlcv(\n",
    "    symbol=\"BTC/USDT\", \n",
    "    timeframe='1d', \n",
    "    since=None, \n",
    "    limit=10)\n",
    "\n",
    "df = pd.DataFrame(btc, columns=['datetime', 'open', 'high', 'low', 'close', 'volume'])\n",
    "df['datetime'] = pd.to_datetime(df['datetime'], unit='ms')\n",
    "df.set_index('datetime', inplace=True)\n",
    "print(df)"
   ]
  },
  {
   "cell_type": "code",
   "execution_count": null,
   "metadata": {},
   "outputs": [],
   "source": [
    "# 매수/롱 포지션 진입\n",
    "with open(\"../api.txt\") as f:\n",
    "    lines = f.readlines()\n",
    "    api_key = lines[0].strip()\n",
    "    secret  = lines[1].strip()\n",
    "\n",
    "binance = ccxt.binance(config={\n",
    "    'apiKey': api_key, \n",
    "    'secret': secret,\n",
    "    'enableRateLimit': True,\n",
    "    'options': {\n",
    "        'defaultType': 'future'\n",
    "    }\n",
    "})\n",
    "\n",
    "order = binance.create_market_buy_order(\n",
    "    symbol=\"BTC/USDT\",\n",
    "    amount=0.001\n",
    ")\n",
    "\n",
    "pprint.pprint(order)"
   ]
  },
  {
   "cell_type": "code",
   "execution_count": null,
   "metadata": {},
   "outputs": [],
   "source": [
    "# 매수/롱 포지션 정리\n",
    "with open(\"../api.txt\") as f:\n",
    "    lines = f.readlines()\n",
    "    api_key = lines[0].strip()\n",
    "    secret  = lines[1].strip()\n",
    "\n",
    "binance = ccxt.binance(config={\n",
    "    'apiKey': api_key, \n",
    "    'secret': secret,\n",
    "    'enableRateLimit': True,\n",
    "    'options': {\n",
    "        'defaultType': 'future'\n",
    "    }\n",
    "})\n",
    "\n",
    "order = binance.create_market_sell_order(\n",
    "    symbol=\"BTC/USDT\",\n",
    "    amount=0.001\n",
    ")\n",
    "\n",
    "pprint.pprint(order)"
   ]
  },
  {
   "cell_type": "code",
   "execution_count": null,
   "metadata": {},
   "outputs": [],
   "source": [
    "# 매도/숏 포지션 진입\n",
    "with open(\"../api.txt\") as f:\n",
    "    lines = f.readlines()\n",
    "    api_key = lines[0].strip()\n",
    "    secret  = lines[1].strip()\n",
    "\n",
    "binance = ccxt.binance(config={\n",
    "    'apiKey': api_key, \n",
    "    'secret': secret,\n",
    "    'enableRateLimit': True,\n",
    "    'options': {\n",
    "        'defaultType': 'future'\n",
    "    }\n",
    "})\n",
    "\n",
    "order = binance.create_market_sell_order(\n",
    "    symbol=\"BTC/USDT\",\n",
    "    amount=0.001, \n",
    ")\n",
    "\n",
    "pprint.pprint(order)"
   ]
  },
  {
   "cell_type": "code",
   "execution_count": null,
   "metadata": {},
   "outputs": [],
   "source": [
    "# 매도/숏 포지션 정리\n",
    "with open(\"../api.txt\") as f:\n",
    "    lines = f.readlines()\n",
    "    api_key = lines[0].strip()\n",
    "    secret  = lines[1].strip()\n",
    "\n",
    "binance = ccxt.binance(config={\n",
    "    'apiKey': api_key, \n",
    "    'secret': secret,\n",
    "    'enableRateLimit': True,\n",
    "    'options': {\n",
    "        'defaultType': 'future'\n",
    "    }\n",
    "})\n",
    "\n",
    "order = binance.create_market_buy_order(\n",
    "    symbol=\"BTC/USDT\",\n",
    "    amount=0.001, \n",
    ")\n",
    "\n",
    "pprint.pprint(order)"
   ]
  },
  {
   "cell_type": "code",
   "execution_count": null,
   "metadata": {},
   "outputs": [],
   "source": [
    "# 레버리지 설정\n",
    "with open(\"../api.txt\") as f:\n",
    "    lines = f.readlines()\n",
    "    api_key = lines[0].strip()\n",
    "    secret  = lines[1].strip()\n",
    "\n",
    "binance = ccxt.binance(config={\n",
    "    'apiKey': api_key, \n",
    "    'secret': secret,\n",
    "    'enableRateLimit': True,\n",
    "    'options': {\n",
    "        'defaultType': 'future'\n",
    "    }\n",
    "})\n",
    "\n",
    "markets = binance.load_markets()\n",
    "symbol = \"BTC/USDT\"\n",
    "market = binance.market(symbol)\n",
    "leverage = 2\n",
    "\n",
    "resp = binance.fapiPrivate_post_leverage({\n",
    "    'symbol': market['id'],\n",
    "    'leverage': leverage\n",
    "})\n",
    "\n",
    "order = binance.create_market_buy_order(\n",
    "    symbol=symbol,\n",
    "    amount=0.001,\n",
    ")"
   ]
  },
  {
   "cell_type": "code",
   "execution_count": null,
   "metadata": {},
   "outputs": [],
   "source": [
    "# 포지션 얻기\n",
    "with open(\"../api.txt\") as f:\n",
    "    lines = f.readlines()\n",
    "    api_key = lines[0].strip()\n",
    "    secret  = lines[1].strip()\n",
    "\n",
    "binance = ccxt.binance(config={\n",
    "    'apiKey': api_key, \n",
    "    'secret': secret,\n",
    "    'enableRateLimit': True,\n",
    "    'options': {\n",
    "        'defaultType': 'future'\n",
    "    }\n",
    "})\n",
    "\n",
    "balance = binance.fetch_balance()\n",
    "positions = balance['info']['positions']\n",
    "\n",
    "for position in positions:\n",
    "    if position[\"symbol\"] == \"BTCUSDT\":\n",
    "        pprint.pprint(position)"
   ]
  },
  {
   "cell_type": "code",
   "execution_count": null,
   "metadata": {},
   "outputs": [],
   "source": [
    "# 대기 주문 조회\n",
    "with open(\"../api.txt\") as f:\n",
    "    lines = f.readlines()\n",
    "    api_key = lines[0].strip()\n",
    "    secret  = lines[1].strip()\n",
    "\n",
    "binance = ccxt.binance(config={\n",
    "    'apiKey': api_key, \n",
    "    'secret': secret,\n",
    "    'enableRateLimit': True,\n",
    "    'options': {\n",
    "        'defaultType': 'future'\n",
    "    }\n",
    "})\n",
    "\n",
    "open_orders = binance.fetch_open_orders(\n",
    "    symbol=\"BTC/USDT\"\n",
    ")\n",
    "pprint.pprint(open_orders)"
   ]
  },
  {
   "cell_type": "code",
   "execution_count": null,
   "metadata": {},
   "outputs": [],
   "source": []
  },
  {
   "cell_type": "code",
   "execution_count": null,
   "metadata": {},
   "outputs": [],
   "source": []
  }
 ],
 "metadata": {
  "interpreter": {
   "hash": "2ff6de7c384c0a51eeb23d3a0610f2710fc2144717ddf1b9e5553f605ba7cc81"
  },
  "kernelspec": {
   "display_name": "Python 3.10.0 64-bit",
   "language": "python",
   "name": "python3"
  },
  "language_info": {
   "codemirror_mode": {
    "name": "ipython",
    "version": 3
   },
   "file_extension": ".py",
   "mimetype": "text/x-python",
   "name": "python",
   "nbconvert_exporter": "python",
   "pygments_lexer": "ipython3",
   "version": "3.9.9"
  },
  "orig_nbformat": 4
 },
 "nbformat": 4,
 "nbformat_minor": 2
}
